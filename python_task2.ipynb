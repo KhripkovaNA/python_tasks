{
  "nbformat": 4,
  "nbformat_minor": 0,
  "metadata": {
    "colab": {
      "provenance": [],
      "include_colab_link": true
    },
    "kernelspec": {
      "name": "python3",
      "display_name": "Python 3"
    },
    "language_info": {
      "name": "python"
    }
  },
  "cells": [
    {
      "cell_type": "markdown",
      "metadata": {
        "id": "view-in-github",
        "colab_type": "text"
      },
      "source": [
        "<a href=\"https://colab.research.google.com/github/KhripkovaNA/python_tasks/blob/main/python_task2.ipynb\" target=\"_parent\"><img src=\"https://colab.research.google.com/assets/colab-badge.svg\" alt=\"Open In Colab\"/></a>"
      ]
    },
    {
      "cell_type": "code",
      "source": [
        "from typing import List"
      ],
      "metadata": {
        "id": "Dup2joOZvW9g"
      },
      "execution_count": 1,
      "outputs": []
    },
    {
      "cell_type": "markdown",
      "source": [
        "1. Defanging an IP Address"
      ],
      "metadata": {
        "id": "RHqQZa0XUWxl"
      }
    },
    {
      "cell_type": "code",
      "execution_count": 2,
      "metadata": {
        "id": "f27RAUOYjvDT"
      },
      "outputs": [],
      "source": [
        "class Solution:\n",
        "  def defangIPaddr(self, address: str) -> str:\n",
        "    return address.replace('.', '[.]')"
      ]
    },
    {
      "cell_type": "markdown",
      "source": [
        "2. Find Numbers with Even Number of Digits"
      ],
      "metadata": {
        "id": "IRW1jYYrUfCQ"
      }
    },
    {
      "cell_type": "code",
      "source": [
        "class Solution:\n",
        "  def findNumbers(self, nums: List[int]) -> int:\n",
        "    count = 0\n",
        "    for i in nums:\n",
        "      if len(str(i)) % 2 == 0:\n",
        "        count += 1\n",
        "    return count"
      ],
      "metadata": {
        "id": "DkCaoYbMk-nq"
      },
      "execution_count": 3,
      "outputs": []
    },
    {
      "cell_type": "markdown",
      "source": [
        "3. Number of Good Pairs"
      ],
      "metadata": {
        "id": "zSCDQo9TU2aX"
      }
    },
    {
      "cell_type": "code",
      "source": [
        "class Solution:\n",
        "  def numIdenticalPairs(self, nums: List[int]) -> int:\n",
        "    return sum([1 for i in range(len(nums)) for j in range(len(nums)) if (nums[i] == nums[j]) and (i < j)])"
      ],
      "metadata": {
        "id": "XthxWjr3x8CQ"
      },
      "execution_count": 4,
      "outputs": []
    },
    {
      "cell_type": "markdown",
      "source": [
        "4. How Many Numbers Are Smaller Than the Current Number"
      ],
      "metadata": {
        "id": "t_zfupFZY0y6"
      }
    },
    {
      "cell_type": "code",
      "source": [
        "class Solution:\n",
        "  def smallerNumbersThanCurrent(self, nums: List[int]) -> List[int]:\n",
        "    seq = []\n",
        "    for i in nums:\n",
        "      seq.append(sorted(nums).index(i))\n",
        "    return seq"
      ],
      "metadata": {
        "id": "jd5L0P3zcn0j"
      },
      "execution_count": 5,
      "outputs": []
    },
    {
      "cell_type": "markdown",
      "source": [
        "5. Subtract the Product and Sum of Digits of an Integer"
      ],
      "metadata": {
        "id": "rc4eHINVmNlv"
      }
    },
    {
      "cell_type": "code",
      "source": [
        "class Solution:\n",
        "  def subtractProductAndSum(self, n: int) -> int:\n",
        "    prod_n = 1\n",
        "    sum_n = 0\n",
        "    for i in map(int, str(n)):\n",
        "      prod_n *= i\n",
        "      sum_n += i\n",
        "    return prod_n - sum_n"
      ],
      "metadata": {
        "id": "QIXU3F-0mWsv"
      },
      "execution_count": 6,
      "outputs": []
    },
    {
      "cell_type": "markdown",
      "source": [
        "6. XOR Operation in an Array"
      ],
      "metadata": {
        "id": "HL32lVkMvMZJ"
      }
    },
    {
      "cell_type": "code",
      "source": [
        "class Solution:\n",
        "  def xorOperation(self, n: int, start: int) -> int:\n",
        "    num = 0\n",
        "    for i in range(n):\n",
        "      num ^= start + 2 * i\n",
        "    return num"
      ],
      "metadata": {
        "id": "X8OA9dOAxrk9"
      },
      "execution_count": 7,
      "outputs": []
    }
  ]
}