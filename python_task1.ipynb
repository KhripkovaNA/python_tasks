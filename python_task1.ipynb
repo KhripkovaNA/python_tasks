{
  "nbformat": 4,
  "nbformat_minor": 0,
  "metadata": {
    "colab": {
      "provenance": [],
      "include_colab_link": true
    },
    "kernelspec": {
      "name": "python3",
      "display_name": "Python 3"
    },
    "language_info": {
      "name": "python"
    }
  },
  "cells": [
    {
      "cell_type": "markdown",
      "metadata": {
        "id": "view-in-github",
        "colab_type": "text"
      },
      "source": [
        "<a href=\"https://colab.research.google.com/github/KhripkovaNA/python_tasks/blob/main/python_task1.ipynb\" target=\"_parent\"><img src=\"https://colab.research.google.com/assets/colab-badge.svg\" alt=\"Open In Colab\"/></a>"
      ]
    },
    {
      "cell_type": "code",
      "source": [
        "from typing import List"
      ],
      "metadata": {
        "id": "Dup2joOZvW9g"
      },
      "execution_count": 1,
      "outputs": []
    },
    {
      "cell_type": "code",
      "execution_count": 2,
      "metadata": {
        "id": "f27RAUOYjvDT"
      },
      "outputs": [],
      "source": [
        "class Solution:\n",
        "  def runningSum(self, nums: List[int]) -> List[int]:\n",
        "    rs = []\n",
        "    s = 0\n",
        "    for n in nums:\n",
        "      s += n\n",
        "      rs.append(s)\n",
        "    return rs"
      ]
    },
    {
      "cell_type": "code",
      "source": [
        "class Solution:\n",
        "  def shuffle(self, nums: List[int], n: int) -> List[int]:\n",
        "    new_nums = []\n",
        "    for i in range(n):\n",
        "      new_nums.append(nums[i])\n",
        "      new_nums.append(nums[n+i])\n",
        "    return new_nums"
      ],
      "metadata": {
        "id": "DkCaoYbMk-nq"
      },
      "execution_count": 3,
      "outputs": []
    },
    {
      "cell_type": "code",
      "source": [
        "class Solution:\n",
        "  def kidsWithCandies(self, candies: List[int], extraCandies: int) -> List[bool]:\n",
        "    check_greatest = []\n",
        "    for i in candies:\n",
        "      if (i + extraCandies) >= max(candies):\n",
        "        check_greatest.append(True)\n",
        "      else:\n",
        "        check_greatest.append(False)\n",
        "    return check_greatest"
      ],
      "metadata": {
        "id": "XthxWjr3x8CQ"
      },
      "execution_count": 4,
      "outputs": []
    }
  ]
}