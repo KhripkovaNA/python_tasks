{
  "cells": [
    {
      "cell_type": "markdown",
      "metadata": {
        "id": "view-in-github",
        "colab_type": "text"
      },
      "source": [
        "<a href=\"https://colab.research.google.com/github/KhripkovaNA/python_tasks/blob/main/python_task3.ipynb\" target=\"_parent\"><img src=\"https://colab.research.google.com/assets/colab-badge.svg\" alt=\"Open In Colab\"/></a>"
      ]
    },
    {
      "cell_type": "code",
      "execution_count": 1,
      "metadata": {
        "id": "Dup2joOZvW9g"
      },
      "outputs": [],
      "source": [
        "from typing import List"
      ]
    },
    {
      "cell_type": "markdown",
      "metadata": {
        "id": "-WY-nAWY4u7M"
      },
      "source": [
        "1. Maximum Product of Two Elements in an Array"
      ]
    },
    {
      "cell_type": "code",
      "execution_count": 2,
      "metadata": {
        "id": "f27RAUOYjvDT"
      },
      "outputs": [],
      "source": [
        "class Solution:\n",
        "  def maxProduct(self, nums: List[int]) -> int:\n",
        "    i = max(nums)\n",
        "    nums.remove(i)\n",
        "    return (i - 1) * (max(nums) - 1)"
      ]
    },
    {
      "cell_type": "markdown",
      "metadata": {
        "id": "lKO8sI2t7ZWA"
      },
      "source": [
        "2. Count Number of Teams"
      ]
    },
    {
      "cell_type": "code",
      "execution_count": 3,
      "metadata": {
        "id": "SFfDy_BwQVP2"
      },
      "outputs": [],
      "source": [
        "class Solution:\n",
        "  def numTeams(self, rating: List[int]) -> int:\n",
        "    n = len(rating)\n",
        "    count_seq = [[0, 0] for _ in range(n)]\n",
        "    count = 0\n",
        "    for i in range(n):\n",
        "      for j in range(i):\n",
        "        if rating[j] < rating[i]:\n",
        "          count += count_seq[j][0]\n",
        "          count_seq[i][0] += 1\n",
        "        else:\n",
        "          count += count_seq[j][1]\n",
        "          count_seq[i][1] += 1\n",
        "    return count"
      ]
    },
    {
      "cell_type": "markdown",
      "metadata": {
        "id": "2bw5yOqewHTt"
      },
      "source": [
        "3. Number of Students Doing Homework at a Given Time"
      ]
    },
    {
      "cell_type": "code",
      "execution_count": 4,
      "metadata": {
        "id": "xGO44nngwHwT"
      },
      "outputs": [],
      "source": [
        "class Solution:\n",
        "  def busyStudent(self, startTime: List[int], endTime: List[int], queryTime: int) -> int:\n",
        "    study_time = list(zip(startTime, endTime))\n",
        "    return sum(map(lambda x: queryTime in range(x[0], x[1] + 1), study_time))"
      ]
    },
    {
      "cell_type": "markdown",
      "metadata": {
        "id": "iWwwvK1jwdkH"
      },
      "source": [
        "4. Number of Steps to Reduce a Number to Zero"
      ]
    },
    {
      "cell_type": "code",
      "execution_count": 5,
      "metadata": {
        "id": "rPfOD3iV7gOI"
      },
      "outputs": [],
      "source": [
        "class Solution:\n",
        "  def numberOfSteps(self, num: int) -> int:\n",
        "    steps = 0\n",
        "    while num != 0:\n",
        "      if num % 2 == 0:\n",
        "        num /= 2\n",
        "      else:\n",
        "        num -= 1\n",
        "      steps += 1\n",
        "    return steps"
      ]
    },
    {
      "cell_type": "markdown",
      "metadata": {
        "id": "Izn1fOHGHSrm"
      },
      "source": [
        "5. Counting Bits"
      ]
    },
    {
      "cell_type": "code",
      "execution_count": 6,
      "metadata": {
        "id": "cZC45za_IHRi"
      },
      "outputs": [],
      "source": [
        "class Solution:\n",
        "  def countBits(self, n: int) -> List[int]: \n",
        "    return list(map(lambda x: bin(x).count('1'), range(n + 1)))"
      ]
    }
  ],
  "metadata": {
    "colab": {
      "provenance": [],
      "include_colab_link": true
    },
    "kernelspec": {
      "display_name": "Python 3",
      "name": "python3"
    },
    "language_info": {
      "name": "python"
    }
  },
  "nbformat": 4,
  "nbformat_minor": 0
}