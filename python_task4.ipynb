{
  "cells": [
    {
      "cell_type": "markdown",
      "metadata": {
        "id": "view-in-github",
        "colab_type": "text"
      },
      "source": [
        "<a href=\"https://colab.research.google.com/github/KhripkovaNA/python_tasks/blob/main/python_task4.ipynb\" target=\"_parent\"><img src=\"https://colab.research.google.com/assets/colab-badge.svg\" alt=\"Open In Colab\"/></a>"
      ]
    },
    {
      "cell_type": "code",
      "execution_count": 1,
      "metadata": {
        "id": "Dup2joOZvW9g"
      },
      "outputs": [],
      "source": [
        "from typing import List"
      ]
    },
    {
      "cell_type": "markdown",
      "metadata": {
        "id": "-WY-nAWY4u7M"
      },
      "source": [
        "1. Single Number"
      ]
    },
    {
      "cell_type": "code",
      "execution_count": 2,
      "metadata": {
        "id": "f27RAUOYjvDT"
      },
      "outputs": [],
      "source": [
        "class Solution:\n",
        "  def singleNumber(self, nums: List[int]) -> int:\n",
        "    ans = 0\n",
        "    for i in nums:\n",
        "      ans ^= i\n",
        "    return ans"
      ]
    },
    {
      "cell_type": "markdown",
      "source": [
        "2. Sort Integers by The Number of 1 Bits"
      ],
      "metadata": {
        "id": "AX1wFzDjyavW"
      }
    },
    {
      "cell_type": "code",
      "source": [
        "class Solution:\n",
        "  def sortByBits(self, arr: List[int]) -> List[int]:\n",
        "    def bit_count(n):\n",
        "      steps = 0\n",
        "      while n:\n",
        "        n = n & (n-1)\n",
        "        steps += 1\n",
        "      return steps\n",
        "    return sorted(sorted(arr), key=bit_count)"
      ],
      "metadata": {
        "id": "fxl8LcpAJ67B"
      },
      "execution_count": 3,
      "outputs": []
    },
    {
      "cell_type": "markdown",
      "metadata": {
        "id": "lKO8sI2t7ZWA"
      },
      "source": [
        "3. Single Number III"
      ]
    },
    {
      "cell_type": "code",
      "execution_count": 4,
      "metadata": {
        "id": "xGO44nngwHwT"
      },
      "outputs": [],
      "source": [
        "class Solution:\n",
        "  def singleNumber(self, nums: List[int]) -> List[int]:\n",
        "    a = 0\n",
        "    for i in nums:\n",
        "      a ^= i\n",
        "    b = 0\n",
        "    c = 0\n",
        "    for i in nums:\n",
        "      if ((a & -a) & i) == 0:\n",
        "        b ^= i\n",
        "      else:\n",
        "        c ^= i\n",
        "    return [b, c]"
      ]
    },
    {
      "cell_type": "markdown",
      "metadata": {
        "id": "Izn1fOHGHSrm"
      },
      "source": [
        "4. Subsets"
      ]
    },
    {
      "cell_type": "code",
      "source": [
        "class Solution:\n",
        "  def subsets(self, nums: List[int]) -> List[List[int]]:\n",
        "    def subset(lst):\n",
        "      n = len(lst)\n",
        "      if n == 0:\n",
        "        return [[]]\n",
        "      res = [[]]\n",
        "      for i in range(n):\n",
        "        num = lst[i]\n",
        "        rem_lst = subset(lst[i+1:])\n",
        "        for l in rem_lst:\n",
        "          res.append([num, *l])\n",
        "      return res\n",
        "    return subset(nums)"
      ],
      "metadata": {
        "id": "iUdeeDcXOl29"
      },
      "execution_count": 5,
      "outputs": []
    }
  ],
  "metadata": {
    "colab": {
      "provenance": [],
      "include_colab_link": true
    },
    "kernelspec": {
      "display_name": "Python 3",
      "name": "python3"
    },
    "language_info": {
      "name": "python"
    }
  },
  "nbformat": 4,
  "nbformat_minor": 0
}