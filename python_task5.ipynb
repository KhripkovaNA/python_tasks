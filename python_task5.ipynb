{
  "cells": [
    {
      "cell_type": "markdown",
      "metadata": {
        "id": "view-in-github",
        "colab_type": "text"
      },
      "source": [
        "<a href=\"https://colab.research.google.com/github/KhripkovaNA/python_tasks/blob/main/python_task5.ipynb\" target=\"_parent\"><img src=\"https://colab.research.google.com/assets/colab-badge.svg\" alt=\"Open In Colab\"/></a>"
      ]
    },
    {
      "cell_type": "code",
      "execution_count": 1,
      "metadata": {
        "id": "Dup2joOZvW9g"
      },
      "outputs": [],
      "source": [
        "from typing import List"
      ]
    },
    {
      "cell_type": "markdown",
      "metadata": {
        "id": "Izn1fOHGHSrm"
      },
      "source": [
        "1. Subsets"
      ]
    },
    {
      "cell_type": "code",
      "execution_count": 2,
      "metadata": {
        "id": "cZC45za_IHRi"
      },
      "outputs": [],
      "source": [
        "class Solution:\n",
        "  def subsets(self, nums: List[int]) -> List[List[int]]:\n",
        "    ans = [[]]\n",
        "    for num in nums:\n",
        "      ans += [i + [num] for i in ans]\n",
        "    return ans"
      ]
    },
    {
      "cell_type": "markdown",
      "source": [
        "2. Hamming Distance"
      ],
      "metadata": {
        "id": "pUHHYr-6PK9H"
      }
    },
    {
      "cell_type": "code",
      "source": [
        "class Solution:\n",
        "  def hammingDistance(self, x: int, y: int) -> int:\n",
        "    exor = x^y\n",
        "    return bin(exor).count('1')"
      ],
      "metadata": {
        "id": "ZXVoAKf1kzRT"
      },
      "execution_count": 3,
      "outputs": []
    },
    {
      "cell_type": "markdown",
      "source": [
        "3. Single Number II"
      ],
      "metadata": {
        "id": "-HNHHLFwLP1y"
      }
    },
    {
      "cell_type": "code",
      "source": [
        "class Solution:\n",
        "  def singleNumber(self, nums: List[int]) -> int:\n",
        "    return int((3*sum(set(nums)) - sum(nums))/2)"
      ],
      "metadata": {
        "id": "80sNmGeXSblH"
      },
      "execution_count": 4,
      "outputs": []
    }
  ],
  "metadata": {
    "colab": {
      "provenance": [],
      "include_colab_link": true
    },
    "kernelspec": {
      "display_name": "Python 3",
      "name": "python3"
    },
    "language_info": {
      "name": "python"
    }
  },
  "nbformat": 4,
  "nbformat_minor": 0
}